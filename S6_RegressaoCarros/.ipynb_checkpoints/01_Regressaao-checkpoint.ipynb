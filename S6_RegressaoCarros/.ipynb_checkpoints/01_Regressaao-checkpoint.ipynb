{
 "cells": [
  {
   "cell_type": "code",
   "execution_count": 1,
   "metadata": {},
   "outputs": [],
   "source": [
    "import pandas as pd\n",
    "import seaborn as sns\n",
    "import numpy as np\n",
    "import matplotlib.pyplot as plt"
   ]
  },
  {
   "cell_type": "code",
   "execution_count": 2,
   "metadata": {},
   "outputs": [],
   "source": [
    "data = pd.read_csv('data/autos.csv', encoding = 'ISO-8859-1')"
   ]
  },
  {
   "cell_type": "code",
   "execution_count": 3,
   "metadata": {},
   "outputs": [],
   "source": [
    "#Retirada de features que provavelmente nao afetam o preco:\n",
    "data.drop(['dateCrawled','monthOfRegistration','dateCreated','nrOfPictures','lastSeen'],\n",
    "          axis = 1, inplace = True)\n",
    "\n",
    "#Como ha muitos nomes diferentes aparecendo soh uma vez, tambem eh prudente deletar:\n",
    "data.drop('name', axis = 1, inplace = True)\n",
    "\n",
    "#Retirada de dados desbalanceados:\n",
    "data.drop(['seller','offerType'], axis = 1, inplace = True)\n",
    "data_original = data\n",
    "# %% Retirada de valores inconsistentes\n",
    "# De acordo com o artigo do medium: https://towardsdatascience.com/ways-to-detect-and-remove-the-outliers-404d16608dba\n"
   ]
  },
  {
   "cell_type": "code",
   "execution_count": 4,
   "metadata": {},
   "outputs": [],
   "source": [
    "from scipy import stats\n",
    "pd.set_option('display.max_columns', None)\n",
    "\n",
    "#Lista de features numericas para analisar outliers:\n",
    "numft = ['price','yearOfRegistration','powerPS','kilometer','postalCode']\n",
    "\n",
    "#Se puramente igualasse ele consideraria o mesmo objeto (foi o que deu aqui, sei lah)\n",
    "data_zscore = data.copy()"
   ]
  },
  {
   "cell_type": "code",
   "execution_count": 5,
   "metadata": {},
   "outputs": [],
   "source": [
    "# %% Criando dataframe que permite a retirada de outliers\n",
    "for feat in numft:\n",
    "    data_zscore[feat] = np.abs(stats.zscore(data_zscore[feat]))"
   ]
  },
  {
   "cell_type": "code",
   "execution_count": 7,
   "metadata": {},
   "outputs": [
    {
     "data": {
      "text/plain": [
       "<matplotlib.axes._subplots.AxesSubplot at 0x7fd89922a4d0>"
      ]
     },
     "execution_count": 7,
     "metadata": {},
     "output_type": "execute_result"
    },
    {
     "data": {
      "image/png": "[encoded data removed]",
      "text/plain": [
       "<Figure size 432x288 with 1 Axes>"
      ]
     },
     "metadata": {
      "needs_background": "light"
     },
     "output_type": "display_data"
    }
   ],
   "source": [
    "#Definindo threshold de 3 (3 desvios padroes):\n",
    "threshold = 3\n",
    "#Isso aqui vai me retornar as colunas e linhas com outliers:\n",
    "iout = np.where(data_zscore[numft] > 3)\n",
    "\n",
    "#Se eu quiser visualizar nos dados originais algum outlier a partir disso:\n",
    "#Para ver o original precisaria fazer o standardscaler reverso\n",
    "data.iloc[iout[0][500],iout[1][500]]\n",
    "\n",
    "#No iout ele pode retornar duplicidade de linhas caso em uma mesma linha ocorra mais de um outlier\n",
    "#Portanto este pequeno codigo se utiliza do bultin set para retornar as linhas unicas\n",
    "irowsunique = list(set(list(iout[0])))\n",
    "\n",
    "#Limpeza a partir dos indeces de linhas e colunas retornados\n",
    "data_nooutlier = data.drop(data.index[irowsunique])\n",
    "\n",
    "#Visualizacao em boxplot para verificar se realmente deletou outliers\n",
    "sns.boxplot(data_nooutlier['yearOfRegistration'])\n"
   ]
  },
  {
   "cell_type": "markdown",
   "metadata": {},
   "source": [
    "## Valores Faltantes"
   ]
  },
  {
   "cell_type": "markdown",
   "metadata": {},
   "source": [
    "- Para visualizar se há valores faltantes em cada feature"
   ]
  },
  {
   "cell_type": "code",
   "execution_count": 8,
   "metadata": {},
   "outputs": [
    {
     "data": {
      "text/plain": [
       "price                 0.000000\n",
       "abtest                0.000000\n",
       "vehicleType           0.096871\n",
       "yearOfRegistration    0.000000\n",
       "gearbox               0.049342\n",
       "powerPS               0.000000\n",
       "model                 0.051710\n",
       "kilometer             0.000000\n",
       "fuelType              0.084682\n",
       "brand                 0.000000\n",
       "notRepairedDamage     0.187863\n",
       "postalCode            0.000000\n",
       "dtype: float64"
      ]
     },
     "execution_count": 8,
     "metadata": {},
     "output_type": "execute_result"
    }
   ],
   "source": [
    "np.sum(data_nooutlier.isnull())/data_nooutlier.shape[0]\n"
   ]
  },
  {
   "cell_type": "markdown",
   "metadata": {},
   "source": [
    "- Para retornar apenas as linhas que não possuem valores faltantes"
   ]
  },
  {
   "cell_type": "code",
   "execution_count": 9,
   "metadata": {},
   "outputs": [],
   "source": [
    "data_nomissing = data_nooutlier[data_nooutlier.isnull().any(axis = 1)==False]"
   ]
  },
  {
   "cell_type": "markdown",
   "metadata": {},
   "source": [
    "- Não há mais valores faltantes"
   ]
  },
  {
   "cell_type": "code",
   "execution_count": 10,
   "metadata": {},
   "outputs": [
    {
     "data": {
      "text/plain": [
       "0"
      ]
     },
     "execution_count": 10,
     "metadata": {},
     "output_type": "execute_result"
    }
   ],
   "source": [
    "data_nomissing.isnull().sum().sum()"
   ]
  },
  {
   "cell_type": "markdown",
   "metadata": {},
   "source": [
    "- Quantas linhas retiramos em relação ao anterior"
   ]
  },
  {
   "cell_type": "code",
   "execution_count": 11,
   "metadata": {},
   "outputs": [
    {
     "data": {
      "text/plain": [
       "0.7098615693568017"
      ]
     },
     "execution_count": 11,
     "metadata": {},
     "output_type": "execute_result"
    }
   ],
   "source": [
    "data_nomissing.shape[0]/data_nooutlier.shape[0]"
   ]
  },
  {
   "cell_type": "markdown",
   "metadata": {},
   "source": [
    "- Em relação a base de dados original:"
   ]
  },
  {
   "cell_type": "code",
   "execution_count": 12,
   "metadata": {},
   "outputs": [
    {
     "data": {
      "text/plain": [
       "0.6954953597037101"
      ]
     },
     "execution_count": 12,
     "metadata": {},
     "output_type": "execute_result"
    }
   ],
   "source": [
    "data_nomissing.shape[0]/data.shape[0]"
   ]
  },
  {
   "cell_type": "markdown",
   "metadata": {},
   "source": [
    "# Label Encoder"
   ]
  },
  {
   "cell_type": "code",
   "execution_count": 13,
   "metadata": {},
   "outputs": [],
   "source": [
    "from sklearn.preprocessing import LabelEncoder"
   ]
  },
  {
   "cell_type": "code",
   "execution_count": 14,
   "metadata": {},
   "outputs": [],
   "source": [
    "def label_encoder(data):\n",
    "    \"\"\"Funcao que permite transformar todas as features do tipo object\"\"\"\n",
    "    \n",
    "    label_encoder = LabelEncoder()\n",
    "    \n",
    "    #Retornar quais sao as features do tipo object que serao transformadas\n",
    "    obj_features = list(data.select_dtypes(include = 'object'))\n",
    "    obj_ft = [data.columns.get_loc(x) for x in obj_features]\n",
    "    \n",
    "    #Pode ser necessario transformar para string, mas na maioria dos casos nao\n",
    "#     def obj2str(df, features):\n",
    "#     for a in features:\n",
    "#         df[a] = df[a].astype(str)\n",
    "#     return df\n",
    "\n",
    "#     data = obj2str(data, object_features_train)\n",
    "    \n",
    "    #Funcao que realizara efetivamente a transformacao\n",
    "    def le(df, obj_ft):\n",
    "        le = LabelEncoder()\n",
    "        for ft in obj_ft:\n",
    "            df[:,ft] = le.fit_transform(df[:,ft])\n",
    "        return df\n",
    "\n",
    "    data_le = pd.DataFrame(le(data.values, obj_ft), columns = data.columns).astype(float)\n",
    "    \n",
    "    return data_le"
   ]
  },
  {
   "cell_type": "code",
   "execution_count": 15,
   "metadata": {},
   "outputs": [],
   "source": [
    "data_le = label_encoder(data_nomissing)"
   ]
  },
  {
   "cell_type": "code",
   "execution_count": 16,
   "metadata": {},
   "outputs": [
    {
     "data": {
      "text/html": [
       "<div>\n",
       "<style scoped>\n",
       "    .dataframe tbody tr th:only-of-type {\n",
       "        vertical-align: middle;\n",
       "    }\n",
       "\n",
       "    .dataframe tbody tr th {\n",
       "        vertical-align: top;\n",
       "    }\n",
       "\n",
       "    .dataframe thead th {\n",
       "        text-align: right;\n",
       "    }\n",
       "</style>\n",
       "<table border=\"1\" class=\"dataframe\">\n",
       "  <thead>\n",
       "    <tr style=\"text-align: right;\">\n",
       "      <th></th>\n",
       "      <th>price</th>\n",
       "      <th>abtest</th>\n",
       "      <th>vehicleType</th>\n",
       "      <th>yearOfRegistration</th>\n",
       "      <th>gearbox</th>\n",
       "      <th>powerPS</th>\n",
       "      <th>model</th>\n",
       "      <th>kilometer</th>\n",
       "      <th>fuelType</th>\n",
       "      <th>brand</th>\n",
       "      <th>notRepairedDamage</th>\n",
       "      <th>postalCode</th>\n",
       "    </tr>\n",
       "  </thead>\n",
       "  <tbody>\n",
       "    <tr>\n",
       "      <th>0</th>\n",
       "      <td>1500.0</td>\n",
       "      <td>1.0</td>\n",
       "      <td>4.0</td>\n",
       "      <td>2001.0</td>\n",
       "      <td>1.0</td>\n",
       "      <td>75.0</td>\n",
       "      <td>118.0</td>\n",
       "      <td>150000.0</td>\n",
       "      <td>1.0</td>\n",
       "      <td>37.0</td>\n",
       "      <td>1.0</td>\n",
       "      <td>91074.0</td>\n",
       "    </tr>\n",
       "    <tr>\n",
       "      <th>1</th>\n",
       "      <td>3600.0</td>\n",
       "      <td>1.0</td>\n",
       "      <td>4.0</td>\n",
       "      <td>2008.0</td>\n",
       "      <td>1.0</td>\n",
       "      <td>69.0</td>\n",
       "      <td>103.0</td>\n",
       "      <td>90000.0</td>\n",
       "      <td>3.0</td>\n",
       "      <td>31.0</td>\n",
       "      <td>1.0</td>\n",
       "      <td>60437.0</td>\n",
       "    </tr>\n",
       "    <tr>\n",
       "      <th>2</th>\n",
       "      <td>650.0</td>\n",
       "      <td>1.0</td>\n",
       "      <td>6.0</td>\n",
       "      <td>1995.0</td>\n",
       "      <td>1.0</td>\n",
       "      <td>102.0</td>\n",
       "      <td>11.0</td>\n",
       "      <td>150000.0</td>\n",
       "      <td>1.0</td>\n",
       "      <td>2.0</td>\n",
       "      <td>0.0</td>\n",
       "      <td>33775.0</td>\n",
       "    </tr>\n",
       "    <tr>\n",
       "      <th>3</th>\n",
       "      <td>2200.0</td>\n",
       "      <td>1.0</td>\n",
       "      <td>2.0</td>\n",
       "      <td>2004.0</td>\n",
       "      <td>1.0</td>\n",
       "      <td>109.0</td>\n",
       "      <td>8.0</td>\n",
       "      <td>150000.0</td>\n",
       "      <td>1.0</td>\n",
       "      <td>25.0</td>\n",
       "      <td>1.0</td>\n",
       "      <td>67112.0</td>\n",
       "    </tr>\n",
       "    <tr>\n",
       "      <th>4</th>\n",
       "      <td>0.0</td>\n",
       "      <td>1.0</td>\n",
       "      <td>6.0</td>\n",
       "      <td>1980.0</td>\n",
       "      <td>1.0</td>\n",
       "      <td>50.0</td>\n",
       "      <td>40.0</td>\n",
       "      <td>40000.0</td>\n",
       "      <td>1.0</td>\n",
       "      <td>37.0</td>\n",
       "      <td>1.0</td>\n",
       "      <td>19348.0</td>\n",
       "    </tr>\n",
       "    <tr>\n",
       "      <th>...</th>\n",
       "      <td>...</td>\n",
       "      <td>...</td>\n",
       "      <td>...</td>\n",
       "      <td>...</td>\n",
       "      <td>...</td>\n",
       "      <td>...</td>\n",
       "      <td>...</td>\n",
       "      <td>...</td>\n",
       "      <td>...</td>\n",
       "      <td>...</td>\n",
       "      <td>...</td>\n",
       "      <td>...</td>\n",
       "    </tr>\n",
       "    <tr>\n",
       "      <th>258391</th>\n",
       "      <td>3200.0</td>\n",
       "      <td>0.0</td>\n",
       "      <td>6.0</td>\n",
       "      <td>2004.0</td>\n",
       "      <td>1.0</td>\n",
       "      <td>225.0</td>\n",
       "      <td>142.0</td>\n",
       "      <td>150000.0</td>\n",
       "      <td>1.0</td>\n",
       "      <td>30.0</td>\n",
       "      <td>0.0</td>\n",
       "      <td>96465.0</td>\n",
       "    </tr>\n",
       "    <tr>\n",
       "      <th>258392</th>\n",
       "      <td>1150.0</td>\n",
       "      <td>0.0</td>\n",
       "      <td>1.0</td>\n",
       "      <td>2000.0</td>\n",
       "      <td>1.0</td>\n",
       "      <td>0.0</td>\n",
       "      <td>249.0</td>\n",
       "      <td>150000.0</td>\n",
       "      <td>1.0</td>\n",
       "      <td>24.0</td>\n",
       "      <td>1.0</td>\n",
       "      <td>26624.0</td>\n",
       "    </tr>\n",
       "    <tr>\n",
       "      <th>258393</th>\n",
       "      <td>1199.0</td>\n",
       "      <td>1.0</td>\n",
       "      <td>2.0</td>\n",
       "      <td>2000.0</td>\n",
       "      <td>0.0</td>\n",
       "      <td>101.0</td>\n",
       "      <td>108.0</td>\n",
       "      <td>125000.0</td>\n",
       "      <td>1.0</td>\n",
       "      <td>32.0</td>\n",
       "      <td>1.0</td>\n",
       "      <td>26135.0</td>\n",
       "    </tr>\n",
       "    <tr>\n",
       "      <th>258394</th>\n",
       "      <td>9200.0</td>\n",
       "      <td>1.0</td>\n",
       "      <td>1.0</td>\n",
       "      <td>1996.0</td>\n",
       "      <td>1.0</td>\n",
       "      <td>102.0</td>\n",
       "      <td>224.0</td>\n",
       "      <td>150000.0</td>\n",
       "      <td>3.0</td>\n",
       "      <td>37.0</td>\n",
       "      <td>1.0</td>\n",
       "      <td>87439.0</td>\n",
       "    </tr>\n",
       "    <tr>\n",
       "      <th>258395</th>\n",
       "      <td>28990.0</td>\n",
       "      <td>0.0</td>\n",
       "      <td>6.0</td>\n",
       "      <td>2013.0</td>\n",
       "      <td>1.0</td>\n",
       "      <td>320.0</td>\n",
       "      <td>148.0</td>\n",
       "      <td>50000.0</td>\n",
       "      <td>1.0</td>\n",
       "      <td>2.0</td>\n",
       "      <td>1.0</td>\n",
       "      <td>73326.0</td>\n",
       "    </tr>\n",
       "  </tbody>\n",
       "</table>\n",
       "<p>258396 rows × 12 columns</p>\n",
       "</div>"
      ],
      "text/plain": [
       "          price  abtest  vehicleType  yearOfRegistration  gearbox  powerPS  \\\n",
       "0        1500.0     1.0          4.0              2001.0      1.0     75.0   \n",
       "1        3600.0     1.0          4.0              2008.0      1.0     69.0   \n",
       "2         650.0     1.0          6.0              1995.0      1.0    102.0   \n",
       "3        2200.0     1.0          2.0              2004.0      1.0    109.0   \n",
       "4           0.0     1.0          6.0              1980.0      1.0     50.0   \n",
       "...         ...     ...          ...                 ...      ...      ...   \n",
       "258391   3200.0     0.0          6.0              2004.0      1.0    225.0   \n",
       "258392   1150.0     0.0          1.0              2000.0      1.0      0.0   \n",
       "258393   1199.0     1.0          2.0              2000.0      0.0    101.0   \n",
       "258394   9200.0     1.0          1.0              1996.0      1.0    102.0   \n",
       "258395  28990.0     0.0          6.0              2013.0      1.0    320.0   \n",
       "\n",
       "        model  kilometer  fuelType  brand  notRepairedDamage  postalCode  \n",
       "0       118.0   150000.0       1.0   37.0                1.0     91074.0  \n",
       "1       103.0    90000.0       3.0   31.0                1.0     60437.0  \n",
       "2        11.0   150000.0       1.0    2.0                0.0     33775.0  \n",
       "3         8.0   150000.0       1.0   25.0                1.0     67112.0  \n",
       "4        40.0    40000.0       1.0   37.0                1.0     19348.0  \n",
       "...       ...        ...       ...    ...                ...         ...  \n",
       "258391  142.0   150000.0       1.0   30.0                0.0     96465.0  \n",
       "258392  249.0   150000.0       1.0   24.0                1.0     26624.0  \n",
       "258393  108.0   125000.0       1.0   32.0                1.0     26135.0  \n",
       "258394  224.0   150000.0       3.0   37.0                1.0     87439.0  \n",
       "258395  148.0    50000.0       1.0    2.0                1.0     73326.0  \n",
       "\n",
       "[258396 rows x 12 columns]"
      ]
     },
     "execution_count": 16,
     "metadata": {},
     "output_type": "execute_result"
    }
   ],
   "source": [
    "data_le"
   ]
  },
  {
   "cell_type": "markdown",
   "metadata": {},
   "source": [
    "# One Hot Encoder"
   ]
  }
 ],
 "metadata": {
  "kernelspec": {
   "display_name": "Python 3",
   "language": "python",
   "name": "python3"
  },
  "language_info": {
   "codemirror_mode": {
    "name": "ipython",
    "version": 3
   },
   "file_extension": ".py",
   "mimetype": "text/x-python",
   "name": "python",
   "nbconvert_exporter": "python",
   "pygments_lexer": "ipython3",
   "version": "3.7.6"
  }
 },
 "nbformat": 4,
 "nbformat_minor": 2
}
