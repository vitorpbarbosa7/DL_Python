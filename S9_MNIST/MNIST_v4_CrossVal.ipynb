{
 "cells": [
  {
   "cell_type": "code",
   "execution_count": 64,
   "metadata": {
    "colab": {
     "base_uri": "https://localhost:8080/",
     "height": 52
    },
    "colab_type": "code",
    "executionInfo": {
     "elapsed": 1470,
     "status": "ok",
     "timestamp": 1593221747560,
     "user": {
      "displayName": "Vitor Pereira Barbosa",
      "photoUrl": "",
      "userId": "04831474142422958031"
     },
     "user_tz": 180
    },
    "id": "EPqxf8mFaiJD",
    "outputId": "ecae13ac-8c1d-403d-e452-1d1e08ea479a"
   },
   "outputs": [],
   "source": [
    "import matplotlib.pyplot as plt\n",
    "import seaborn as sns\n",
    "import numpy as np \n",
    "import pandas as pd"
   ]
  },
  {
   "cell_type": "code",
   "execution_count": 65,
   "metadata": {
    "colab": {
     "base_uri": "https://localhost:8080/",
     "height": 34
    },
    "colab_type": "code",
    "executionInfo": {
     "elapsed": 3546,
     "status": "ok",
     "timestamp": 1593221749643,
     "user": {
      "displayName": "Vitor Pereira Barbosa",
      "photoUrl": "",
      "userId": "04831474142422958031"
     },
     "user_tz": 180
    },
    "id": "b-raJRfHaiJH",
    "outputId": "cd0b2bee-37a7-4a74-eeac-07b766c56674"
   },
   "outputs": [],
   "source": [
    "from keras.datasets import mnist\n",
    "from keras.models import Sequential \n",
    "from keras.layers import Dense, Flatten\n",
    "from keras.utils import np_utils\n",
    "\n",
    "#Camadas de convolução e MaxPooling 2D porque imagens são objetos 2D (ou seja, imagens)\n",
    "from keras.layers import Conv2D, MaxPooling2D"
   ]
  },
  {
   "cell_type": "code",
   "execution_count": 66,
   "metadata": {
    "colab": {
     "base_uri": "https://localhost:8080/",
     "height": 52
    },
    "colab_type": "code",
    "executionInfo": {
     "elapsed": 5168,
     "status": "ok",
     "timestamp": 1593221751271,
     "user": {
      "displayName": "Vitor Pereira Barbosa",
      "photoUrl": "",
      "userId": "04831474142422958031"
     },
     "user_tz": 180
    },
    "id": "FVNKK1LhaiJL",
    "outputId": "6676e18a-92c5-4e39-9766-84bf58099d43"
   },
   "outputs": [],
   "source": [
    "(X_train, y_train), (X_test, y_test) = mnist.load_data()"
   ]
  },
  {
   "cell_type": "markdown",
   "metadata": {
    "colab_type": "text",
    "id": "XJBeDHo3aiJN"
   },
   "source": [
    "- Dimensões"
   ]
  },
  {
   "cell_type": "code",
   "execution_count": 67,
   "metadata": {
    "colab": {
     "base_uri": "https://localhost:8080/",
     "height": 34
    },
    "colab_type": "code",
    "executionInfo": {
     "elapsed": 5148,
     "status": "ok",
     "timestamp": 1593221751274,
     "user": {
      "displayName": "Vitor Pereira Barbosa",
      "photoUrl": "",
      "userId": "04831474142422958031"
     },
     "user_tz": 180
    },
    "id": "sWx8fPg6aiJO",
    "outputId": "30bd19af-8ad1-43e8-bbe6-40996a8e5b21"
   },
   "outputs": [
    {
     "name": "stdout",
     "output_type": "stream",
     "text": [
      "(60000, 28, 28) (60000,) (10000, 28, 28) (10000,)\n"
     ]
    }
   ],
   "source": [
    "print(X_train.shape, y_train.shape, X_test.shape, y_test.shape)"
   ]
  },
  {
   "cell_type": "markdown",
   "metadata": {
    "colab_type": "text",
    "id": "0a4qzAf9aiJT"
   },
   "source": [
    "- Para visualizar qualquer imagem "
   ]
  },
  {
   "cell_type": "code",
   "execution_count": 68,
   "metadata": {
    "colab": {
     "base_uri": "https://localhost:8080/",
     "height": 34
    },
    "colab_type": "code",
    "executionInfo": {
     "elapsed": 5135,
     "status": "ok",
     "timestamp": 1593221751276,
     "user": {
      "displayName": "Vitor Pereira Barbosa",
      "photoUrl": "",
      "userId": "04831474142422958031"
     },
     "user_tz": 180
    },
    "id": "Ub4ZUfIYaiJU",
    "outputId": "f3a368c8-ecbf-47d5-8470-2e3bb6e069ba"
   },
   "outputs": [
    {
     "data": {
      "text/plain": [
       "(28, 28)"
      ]
     },
     "execution_count": 68,
     "metadata": {},
     "output_type": "execute_result"
    }
   ],
   "source": [
    "X_train[0].shape"
   ]
  },
  {
   "cell_type": "code",
   "execution_count": 69,
   "metadata": {
    "colab": {
     "base_uri": "https://localhost:8080/",
     "height": 298
    },
    "colab_type": "code",
    "executionInfo": {
     "elapsed": 5123,
     "status": "ok",
     "timestamp": 1593221751278,
     "user": {
      "displayName": "Vitor Pereira Barbosa",
      "photoUrl": "",
      "userId": "04831474142422958031"
     },
     "user_tz": 180
    },
    "id": "DGby3MSaaiJY",
    "outputId": "60309a08-a231-4569-b8cd-0f8e6e62ca05"
   },
   "outputs": [
    {
     "data": {
      "text/plain": [
       "<matplotlib.image.AxesImage at 0x7fa6e3d48b90>"
      ]
     },
     "execution_count": 69,
     "metadata": {},
     "output_type": "execute_result"
    },
    {
     "data": {
      "image/png": "[encoded data removed]",
      "text/plain": [
       "<Figure size 432x288 with 1 Axes>"
      ]
     },
     "metadata": {
      "needs_background": "light"
     },
     "output_type": "display_data"
    }
   ],
   "source": [
    "i = 5\n",
    "plt.title('Classe' + str(y_train[5]))\n",
    "plt.imshow(X_train[5], cmap = 'gray')"
   ]
  },
  {
   "cell_type": "markdown",
   "metadata": {
    "colab_type": "text",
    "id": "-yUFXuaqaiJd"
   },
   "source": [
    "## Transformação para tensores"
   ]
  },
  {
   "cell_type": "code",
   "execution_count": 70,
   "metadata": {
    "colab": {},
    "colab_type": "code",
    "executionInfo": {
     "elapsed": 5121,
     "status": "ok",
     "timestamp": 1593221751280,
     "user": {
      "displayName": "Vitor Pereira Barbosa",
      "photoUrl": "",
      "userId": "04831474142422958031"
     },
     "user_tz": 180
    },
    "id": "pfr_utKxaiJe"
   },
   "outputs": [],
   "source": [
    "def array2tensor(array, channels):\n",
    "    tensor = array.reshape(array.shape[0], \n",
    "                           array.shape[1],\n",
    "                           array.shape[2],\n",
    "                           channels)\n",
    "    return tensor"
   ]
  },
  {
   "cell_type": "code",
   "execution_count": 71,
   "metadata": {
    "colab": {},
    "colab_type": "code",
    "executionInfo": {
     "elapsed": 5120,
     "status": "ok",
     "timestamp": 1593221751282,
     "user": {
      "displayName": "Vitor Pereira Barbosa",
      "photoUrl": "",
      "userId": "04831474142422958031"
     },
     "user_tz": 180
    },
    "id": "V6-vAtMIaiJh"
   },
   "outputs": [],
   "source": [
    "#Como a imagem veio com apenas um canal, só passo trabalhar com 1 mesmo \n",
    "X_train = array2tensor(X_train, channels = 1)\n",
    "X_test = array2tensor(X_test, channels = 1)\n"
   ]
  },
  {
   "cell_type": "markdown",
   "metadata": {
    "colab_type": "text",
    "id": "j5TTKyC-aiJj"
   },
   "source": [
    "- Visualizar imagem"
   ]
  },
  {
   "cell_type": "code",
   "execution_count": 72,
   "metadata": {
    "colab": {
     "base_uri": "https://localhost:8080/",
     "height": 298
    },
    "colab_type": "code",
    "executionInfo": {
     "elapsed": 5693,
     "status": "ok",
     "timestamp": 1593221751868,
     "user": {
      "displayName": "Vitor Pereira Barbosa",
      "photoUrl": "",
      "userId": "04831474142422958031"
     },
     "user_tz": 180
    },
    "id": "olm6PRYtaiJj",
    "outputId": "3c8dedaa-ccf1-4b05-b504-6a1ba90c94ee"
   },
   "outputs": [
    {
     "data": {
      "text/plain": [
       "<matplotlib.image.AxesImage at 0x7fa6e3ce0650>"
      ]
     },
     "execution_count": 72,
     "metadata": {},
     "output_type": "execute_result"
    },
    {
     "data": {
      "image/png": "[encoded data removed]",
      "text/plain": [
       "<Figure size 432x288 with 1 Axes>"
      ]
     },
     "metadata": {
      "needs_background": "light"
     },
     "output_type": "display_data"
    }
   ],
   "source": [
    "i = 5\n",
    "plt.title('Classe' + str(y_train[i]))\n",
    "plt.imshow(X_train[i,:,:,0])"
   ]
  },
  {
   "cell_type": "markdown",
   "metadata": {
    "colab_type": "text",
    "id": "iMG1_CNjaiJm"
   },
   "source": [
    "- O objeto é do tipo uint8, um tipo de variável unsigned integer de 8 bits, ou seja. \n",
    "- Esta variável é sempre não negativa, representa por, por exemplo, 11111111, o qual seria o número 255"
   ]
  },
  {
   "cell_type": "markdown",
   "metadata": {
    "colab_type": "text",
    "id": "X3JrMxmjaiJn"
   },
   "source": [
    "- Na notação abaixo, '0b' significa que esta é uma notação de número binário e não o número 1111111\n",
    "- '0x' significa hexadecimal \n",
    "- o '0' stands for Octal, afinal, esta representação está sendo realizada em 8 bits "
   ]
  },
  {
   "cell_type": "code",
   "execution_count": 73,
   "metadata": {
    "colab": {
     "base_uri": "https://localhost:8080/",
     "height": 35
    },
    "colab_type": "code",
    "executionInfo": {
     "elapsed": 5677,
     "status": "ok",
     "timestamp": 1593221751872,
     "user": {
      "displayName": "Vitor Pereira Barbosa",
      "photoUrl": "",
      "userId": "04831474142422958031"
     },
     "user_tz": 180
    },
    "id": "s6T9LgjuaiJn",
    "outputId": "66f7782c-f880-43ad-9e59-d3be4004d3bc"
   },
   "outputs": [
    {
     "data": {
      "text/plain": [
       "'0b11111111'"
      ]
     },
     "execution_count": 73,
     "metadata": {},
     "output_type": "execute_result"
    }
   ],
   "source": [
    "bin(255)"
   ]
  },
  {
   "cell_type": "code",
   "execution_count": 74,
   "metadata": {
    "colab": {
     "base_uri": "https://localhost:8080/",
     "height": 34
    },
    "colab_type": "code",
    "executionInfo": {
     "elapsed": 5658,
     "status": "ok",
     "timestamp": 1593221751875,
     "user": {
      "displayName": "Vitor Pereira Barbosa",
      "photoUrl": "",
      "userId": "04831474142422958031"
     },
     "user_tz": 180
    },
    "id": "K3PjqolKaiJr",
    "outputId": "8a809168-1ee3-4fc3-e7e4-73516a8bc93c"
   },
   "outputs": [
    {
     "name": "stdout",
     "output_type": "stream",
     "text": [
      "<class 'numpy.uint8'>\n"
     ]
    }
   ],
   "source": [
    "print(type(X_train[0,0,0,0]))"
   ]
  },
  {
   "cell_type": "markdown",
   "metadata": {
    "colab_type": "text",
    "id": "sDIK_1s-aiJt"
   },
   "source": [
    "- Para realizar as operações matemáticas na rede neural, utilizaremos o formato de float a qual permitirá a realização da normalização"
   ]
  },
  {
   "cell_type": "code",
   "execution_count": 75,
   "metadata": {
    "colab": {},
    "colab_type": "code",
    "executionInfo": {
     "elapsed": 5658,
     "status": "ok",
     "timestamp": 1593221751879,
     "user": {
      "displayName": "Vitor Pereira Barbosa",
      "photoUrl": "",
      "userId": "04831474142422958031"
     },
     "user_tz": 180
    },
    "id": "AIiGGIdtaiJu"
   },
   "outputs": [],
   "source": [
    "X_train = X_train.astype('float32')\n",
    "X_test = X_test.astype('float32')"
   ]
  },
  {
   "cell_type": "markdown",
   "metadata": {
    "colab_type": "text",
    "id": "WhfV1tixaiJw"
   },
   "source": [
    "## Modificação da escala de valores\n",
    "- Transformação da escala porque os números estão entre 0 e 255, o que resultaria em um tempo muito maior de treinamento da rede. \n",
    "- 255 é o valor máximo observado em cada vetor. Este valor obviamente está atrelado à escala de cores RGB"
   ]
  },
  {
   "cell_type": "code",
   "execution_count": 76,
   "metadata": {
    "colab": {},
    "colab_type": "code",
    "executionInfo": {
     "elapsed": 5657,
     "status": "ok",
     "timestamp": 1593221751882,
     "user": {
      "displayName": "Vitor Pereira Barbosa",
      "photoUrl": "",
      "userId": "04831474142422958031"
     },
     "user_tz": 180
    },
    "id": "Jt3j23NeaiJw"
   },
   "outputs": [],
   "source": [
    "X_train_s = X_train/255\n",
    "X_test_s = X_test/255"
   ]
  },
  {
   "cell_type": "code",
   "execution_count": 77,
   "metadata": {
    "colab": {
     "base_uri": "https://localhost:8080/",
     "height": 34
    },
    "colab_type": "code",
    "executionInfo": {
     "elapsed": 5645,
     "status": "ok",
     "timestamp": 1593221751885,
     "user": {
      "displayName": "Vitor Pereira Barbosa",
      "photoUrl": "",
      "userId": "04831474142422958031"
     },
     "user_tz": 180
    },
    "id": "SxVm9Ak8aiJy",
    "outputId": "9a563a5f-bf08-48fa-f486-55b6c7a0402f"
   },
   "outputs": [
    {
     "data": {
      "text/plain": [
       "(60000, 28, 28, 1)"
      ]
     },
     "execution_count": 77,
     "metadata": {},
     "output_type": "execute_result"
    }
   ],
   "source": [
    "X_train_s.shape"
   ]
  },
  {
   "cell_type": "markdown",
   "metadata": {
    "colab_type": "text",
    "id": "ihTSHih1aiJ1"
   },
   "source": [
    "### One Hot Encode (Dummy data) para codificação da saíde, porque há 10 saídas possíveis"
   ]
  },
  {
   "cell_type": "code",
   "execution_count": 78,
   "metadata": {
    "colab": {},
    "colab_type": "code",
    "executionInfo": {
     "elapsed": 5644,
     "status": "ok",
     "timestamp": 1593221751887,
     "user": {
      "displayName": "Vitor Pereira Barbosa",
      "photoUrl": "",
      "userId": "04831474142422958031"
     },
     "user_tz": 180
    },
    "id": "Di-pxwp7aiJ1"
   },
   "outputs": [],
   "source": [
    "y_train = np_utils.to_categorical(y_train, 10)\n",
    "y_test = np_utils.to_categorical(y_test, 10)"
   ]
  },
  {
   "cell_type": "markdown",
   "metadata": {},
   "source": [
    "# Validação Cruzada"
   ]
  },
  {
   "cell_type": "code",
   "execution_count": 79,
   "metadata": {},
   "outputs": [],
   "source": [
    "from sklearn.model_selection import StratifiedKFold"
   ]
  },
  {
   "cell_type": "markdown",
   "metadata": {},
   "source": [
    "- Semente geradora dos números aleatórios"
   ]
  },
  {
   "cell_type": "code",
   "execution_count": 80,
   "metadata": {},
   "outputs": [],
   "source": [
    "seed = 5\n",
    "np.random.seed(seed)"
   ]
  },
  {
   "cell_type": "code",
   "execution_count": 81,
   "metadata": {},
   "outputs": [],
   "source": [
    "kfold = StratifiedKFold(n_splits = 5, shuffle = True, random_state = seed)"
   ]
  },
  {
   "cell_type": "markdown",
   "metadata": {},
   "source": [
    "### Armazenar os resultados"
   ]
  },
  {
   "cell_type": "code",
   "execution_count": 82,
   "metadata": {},
   "outputs": [],
   "source": [
    "resultados = []"
   ]
  },
  {
   "cell_type": "code",
   "execution_count": 83,
   "metadata": {},
   "outputs": [],
   "source": [
    "a = np.zeros(5)"
   ]
  },
  {
   "cell_type": "markdown",
   "metadata": {},
   "source": [
    "### Para visualizar como foi realizado a divisão\n",
    "- Objeto kfold retorna os índices que serão utilizados na etapa de treinamento do modelo e na etapa de validação, na validação cruzada"
   ]
  },
  {
   "cell_type": "code",
   "execution_count": 84,
   "metadata": {},
   "outputs": [
    {
     "name": "stdout",
     "output_type": "stream",
     "text": [
      "KFold 1: Train index: [    0     1     2 ... 59997 59998 59999] - Test index [    8    10    27 ... 59985 59988 59995]\n",
      "KFold 1: Train format: (48000,) - Test format: (12000,)\n",
      "KFold 2: Train index: [    0     1     2 ... 59995 59996 59999] - Test index [   14    23    30 ... 59992 59997 59998]\n",
      "KFold 2: Train format: (48000,) - Test format: (12000,)\n",
      "KFold 3: Train index: [    1     3     4 ... 59997 59998 59999] - Test index [    0     2     5 ... 59981 59984 59987]\n",
      "KFold 3: Train format: (48000,) - Test format: (12000,)\n",
      "KFold 4: Train index: [    0     1     2 ... 59995 59997 59998] - Test index [    6     7    12 ... 59994 59996 59999]\n",
      "KFold 4: Train format: (48000,) - Test format: (12000,)\n",
      "KFold 5: Train index: [    0     2     5 ... 59997 59998 59999] - Test index [    1     3     4 ... 59959 59966 59989]\n",
      "KFold 5: Train format: (48000,) - Test format: (12000,)\n"
     ]
    }
   ],
   "source": [
    "i = 1\n",
    "for train_index, test_index in kfold.split(X_train_s, y_train[:,0]):\n",
    "    print(\"KFold %s:\" %i, \"Train index:\", train_index, \"- Test index\", test_index)\n",
    "    print(\"KFold %s:\" %i, \"Train format:\", train_index.shape, \"- Test format:\", test_index.shape)\n",
    "    i +=1"
   ]
  },
  {
   "cell_type": "markdown",
   "metadata": {
    "colab_type": "text",
    "id": "jn4bg9sPaiJ4"
   },
   "source": [
    "# Criação da arquitetura da rede"
   ]
  },
  {
   "cell_type": "markdown",
   "metadata": {
    "colab_type": "text",
    "id": "nN2GlGA7aiJ4"
   },
   "source": [
    "#### Importação de uma camada de normalização à rede\n",
    "- Será realizada portanto uma normalização para as camadas de convolução, o que permite a redução do tempo de treinamento da rede"
   ]
  },
  {
   "cell_type": "code",
   "execution_count": 85,
   "metadata": {
    "colab": {},
    "colab_type": "code",
    "executionInfo": {
     "elapsed": 5641,
     "status": "ok",
     "timestamp": 1593221751890,
     "user": {
      "displayName": "Vitor Pereira Barbosa",
      "photoUrl": "",
      "userId": "04831474142422958031"
     },
     "user_tz": 180
    },
    "id": "haCG1wJSaiJ7"
   },
   "outputs": [],
   "source": [
    "model = Sequential()"
   ]
  },
  {
   "cell_type": "markdown",
   "metadata": {
    "colab_type": "text",
    "id": "x0mimEsuaiJ9"
   },
   "source": [
    "- Rede trabalha com kernels personalizados, não apenas os kernels padrões, por isso é possível utilizar 32 filtros (mapa de recursos ou mapa de features\n",
    "- strides = (1,1) significa que a operação de convolução, ou seja a multiplicação e adição realizada pelo kernel de cada mapa de recursos irá se mover com 1 posição para a direita e 1 posição para baixo. É possível configurar por exemplo para ser strides = (2,2)"
   ]
  },
  {
   "cell_type": "code",
   "execution_count": 86,
   "metadata": {
    "colab": {},
    "colab_type": "code",
    "executionInfo": {
     "elapsed": 13089,
     "status": "ok",
     "timestamp": 1593221759341,
     "user": {
      "displayName": "Vitor Pereira Barbosa",
      "photoUrl": "",
      "userId": "04831474142422958031"
     },
     "user_tz": 180
    },
    "id": "INpqg24xaiJ-"
   },
   "outputs": [],
   "source": [
    "model.add(Conv2D(filters = 32, #Número de kernels\n",
    "                kernel_size = (3,3),\n",
    "                strides = (1,1), \n",
    "                input_shape = (28, 28, 1), \n",
    "                activation = 'relu'))"
   ]
  },
  {
   "cell_type": "markdown",
   "metadata": {
    "colab_type": "text",
    "id": "BjjItwwYaiKA"
   },
   "source": [
    "- Camada de normalização"
   ]
  },
  {
   "cell_type": "code",
   "execution_count": 87,
   "metadata": {},
   "outputs": [],
   "source": [
    "from keras.layers import BatchNormalization"
   ]
  },
  {
   "cell_type": "code",
   "execution_count": 88,
   "metadata": {
    "colab": {},
    "colab_type": "code",
    "executionInfo": {
     "elapsed": 13087,
     "status": "ok",
     "timestamp": 1593221759342,
     "user": {
      "displayName": "Vitor Pereira Barbosa",
      "photoUrl": "",
      "userId": "04831474142422958031"
     },
     "user_tz": 180
    },
    "id": "eN3ybuDaaiKA"
   },
   "outputs": [],
   "source": [
    "model.add(BatchNormalization())"
   ]
  },
  {
   "cell_type": "markdown",
   "metadata": {
    "colab_type": "text",
    "id": "lsBTdsq0aiKC"
   },
   "source": [
    "- Após a primeira camada de convolução, têm-se a primeira camada de pooling, utilizando-se do MaxPooling2D"
   ]
  },
  {
   "cell_type": "code",
   "execution_count": 89,
   "metadata": {
    "colab": {},
    "colab_type": "code",
    "executionInfo": {
     "elapsed": 12934,
     "status": "ok",
     "timestamp": 1593221759343,
     "user": {
      "displayName": "Vitor Pereira Barbosa",
      "photoUrl": "",
      "userId": "04831474142422958031"
     },
     "user_tz": 180
    },
    "id": "MAsj7_thaiKD"
   },
   "outputs": [],
   "source": [
    "model.add(MaxPooling2D(pool_size = (2,2)))"
   ]
  },
  {
   "cell_type": "markdown",
   "metadata": {
    "colab_type": "text",
    "id": "2BAOQktAaiKF"
   },
   "source": [
    "- Após a convolução para selecionar as principais características e do Pooling para realçar apenas os principais valores dos mapas de recursos, aplica-se a camada de flatten, para \"achatar\" os neurônios obtendo um array coluna"
   ]
  },
  {
   "cell_type": "markdown",
   "metadata": {
    "colab_type": "text",
    "id": "8ARjJXlWaiKF"
   },
   "source": [
    "- Dado que adicionamos mais uma camada de convolução o flatten() vai lá pra baixo"
   ]
  },
  {
   "cell_type": "code",
   "execution_count": 90,
   "metadata": {
    "colab": {},
    "colab_type": "code",
    "executionInfo": {
     "elapsed": 11150,
     "status": "ok",
     "timestamp": 1593221759344,
     "user": {
      "displayName": "Vitor Pereira Barbosa",
      "photoUrl": "",
      "userId": "04831474142422958031"
     },
     "user_tz": 180
    },
    "id": "Gk_yl-aRaiKG"
   },
   "outputs": [],
   "source": [
    "#model.add(Flatten()) #Não é necessário passar nenhum parâmetro, a operação é muito simples"
   ]
  },
  {
   "cell_type": "markdown",
   "metadata": {
    "colab_type": "text",
    "id": "r1T6EkabaiKI"
   },
   "source": [
    "- Mais uma camada de Convolução"
   ]
  },
  {
   "cell_type": "code",
   "execution_count": 91,
   "metadata": {
    "colab": {},
    "colab_type": "code",
    "executionInfo": {
     "elapsed": 8591,
     "status": "ok",
     "timestamp": 1593221759344,
     "user": {
      "displayName": "Vitor Pereira Barbosa",
      "photoUrl": "",
      "userId": "04831474142422958031"
     },
     "user_tz": 180
    },
    "id": "npj299osaiKJ"
   },
   "outputs": [],
   "source": [
    "model.add(Conv2D(filters = 32, \n",
    "                kernel_size = (3,3),\n",
    "                strides = (1,1),\n",
    "                activation = 'relu'))"
   ]
  },
  {
   "cell_type": "code",
   "execution_count": 92,
   "metadata": {
    "colab": {},
    "colab_type": "code",
    "executionInfo": {
     "elapsed": 7969,
     "status": "ok",
     "timestamp": 1593221759345,
     "user": {
      "displayName": "Vitor Pereira Barbosa",
      "photoUrl": "",
      "userId": "04831474142422958031"
     },
     "user_tz": 180
    },
    "id": "mMjHfec5aiKL"
   },
   "outputs": [],
   "source": [
    "model.add(BatchNormalization())"
   ]
  },
  {
   "cell_type": "code",
   "execution_count": 93,
   "metadata": {
    "colab": {},
    "colab_type": "code",
    "executionInfo": {
     "elapsed": 7376,
     "status": "ok",
     "timestamp": 1593221759345,
     "user": {
      "displayName": "Vitor Pereira Barbosa",
      "photoUrl": "",
      "userId": "04831474142422958031"
     },
     "user_tz": 180
    },
    "id": "G2lRiHTjaiKN"
   },
   "outputs": [],
   "source": [
    "model.add(MaxPooling2D(pool_size = (2,2)))"
   ]
  },
  {
   "cell_type": "code",
   "execution_count": 94,
   "metadata": {
    "colab": {},
    "colab_type": "code",
    "executionInfo": {
     "elapsed": 7161,
     "status": "ok",
     "timestamp": 1593221759642,
     "user": {
      "displayName": "Vitor Pereira Barbosa",
      "photoUrl": "",
      "userId": "04831474142422958031"
     },
     "user_tz": 180
    },
    "id": "Fn5yCs12aiKP"
   },
   "outputs": [],
   "source": [
    "model.add(Flatten())"
   ]
  },
  {
   "cell_type": "markdown",
   "metadata": {
    "colab_type": "text",
    "id": "5q4VdC5GaiKU"
   },
   "source": [
    "- Ao consultar o resumo da rede até o momento, observa-se que há 32 filtros na camada de convolução, resultando em 26 imagens de dimensão 26x26\n",
    "- Observa-se também que há 32 imagens após a camada de pooling a qual reduziu de 26 para 13 as dimensões de altura e largura "
   ]
  },
  {
   "cell_type": "code",
   "execution_count": 95,
   "metadata": {
    "colab": {
     "base_uri": "https://localhost:8080/",
     "height": 407
    },
    "colab_type": "code",
    "executionInfo": {
     "elapsed": 5337,
     "status": "ok",
     "timestamp": 1593221759644,
     "user": {
      "displayName": "Vitor Pereira Barbosa",
      "photoUrl": "",
      "userId": "04831474142422958031"
     },
     "user_tz": 180
    },
    "id": "jQ6lZgdEaiKU",
    "outputId": "64cfe8cb-4647-4a68-c9c3-c4c3da65c7b1"
   },
   "outputs": [
    {
     "name": "stdout",
     "output_type": "stream",
     "text": [
      "Model: \"sequential\"\n",
      "_________________________________________________________________\n",
      "Layer (type)                 Output Shape              Param #   \n",
      "=================================================================\n",
      "conv2d (Conv2D)              (None, 26, 26, 32)        320       \n",
      "_________________________________________________________________\n",
      "batch_normalization (BatchNo (None, 26, 26, 32)        128       \n",
      "_________________________________________________________________\n",
      "max_pooling2d (MaxPooling2D) (None, 13, 13, 32)        0         \n",
      "_________________________________________________________________\n",
      "conv2d_1 (Conv2D)            (None, 11, 11, 32)        9248      \n",
      "_________________________________________________________________\n",
      "batch_normalization_1 (Batch (None, 11, 11, 32)        128       \n",
      "_________________________________________________________________\n",
      "max_pooling2d_1 (MaxPooling2 (None, 5, 5, 32)          0         \n",
      "_________________________________________________________________\n",
      "flatten (Flatten)            (None, 800)               0         \n",
      "=================================================================\n",
      "Total params: 9,824\n",
      "Trainable params: 9,696\n",
      "Non-trainable params: 128\n",
      "_________________________________________________________________\n"
     ]
    }
   ],
   "source": [
    "model.summary()"
   ]
  },
  {
   "cell_type": "markdown",
   "metadata": {
    "colab_type": "text",
    "id": "JZoR5_aYaiKX"
   },
   "source": [
    "### Gerar a rede neural densa"
   ]
  },
  {
   "cell_type": "markdown",
   "metadata": {
    "colab_type": "text",
    "id": "rmQOJeyIaiKX"
   },
   "source": [
    "- Estimativa de neurônios na camada de entrada"
   ]
  },
  {
   "cell_type": "code",
   "execution_count": 96,
   "metadata": {
    "colab": {
     "base_uri": "https://localhost:8080/",
     "height": 34
    },
    "colab_type": "code",
    "executionInfo": {
     "elapsed": 670,
     "status": "ok",
     "timestamp": 1593221760741,
     "user": {
      "displayName": "Vitor Pereira Barbosa",
      "photoUrl": "",
      "userId": "04831474142422958031"
     },
     "user_tz": 180
    },
    "id": "8ecmHleBaiKY",
    "outputId": "ac609fce-2e27-45ae-dcdb-55e1898b69b0"
   },
   "outputs": [
    {
     "data": {
      "text/plain": [
       "17.5"
      ]
     },
     "execution_count": 96,
     "metadata": {},
     "output_type": "execute_result"
    }
   ],
   "source": [
    "(5*5 + 10)/2 #10 é o número de classes"
   ]
  },
  {
   "cell_type": "code",
   "execution_count": 97,
   "metadata": {
    "colab": {},
    "colab_type": "code",
    "executionInfo": {
     "elapsed": 1696,
     "status": "ok",
     "timestamp": 1593221762197,
     "user": {
      "displayName": "Vitor Pereira Barbosa",
      "photoUrl": "",
      "userId": "04831474142422958031"
     },
     "user_tz": 180
    },
    "id": "AnLD_QdxaiKc"
   },
   "outputs": [],
   "source": [
    "model.add(Dense(units = 128,\n",
    "               activation = 'relu',\n",
    "               ))"
   ]
  },
  {
   "cell_type": "markdown",
   "metadata": {
    "colab_type": "text",
    "id": "-1-5P6MSaiKe"
   },
   "source": [
    "- Para evitar o overfitting, dado que em redes neurais convolucionais há muitas entradas, pode-se utilizar a técnica do Dropout"
   ]
  },
  {
   "cell_type": "code",
   "execution_count": 98,
   "metadata": {
    "colab": {},
    "colab_type": "code",
    "executionInfo": {
     "elapsed": 1422,
     "status": "ok",
     "timestamp": 1593221783189,
     "user": {
      "displayName": "Vitor Pereira Barbosa",
      "photoUrl": "",
      "userId": "04831474142422958031"
     },
     "user_tz": 180
    },
    "id": "kQNojFePaiKe"
   },
   "outputs": [],
   "source": [
    "from keras.layers import Dropout"
   ]
  },
  {
   "cell_type": "code",
   "execution_count": 99,
   "metadata": {
    "colab": {},
    "colab_type": "code",
    "executionInfo": {
     "elapsed": 1015,
     "status": "ok",
     "timestamp": 1593221783190,
     "user": {
      "displayName": "Vitor Pereira Barbosa",
      "photoUrl": "",
      "userId": "04831474142422958031"
     },
     "user_tz": 180
    },
    "id": "-cJGd8u7aiKg"
   },
   "outputs": [],
   "source": [
    "model.add(Dropout(rate = 0.2))"
   ]
  },
  {
   "cell_type": "markdown",
   "metadata": {
    "colab_type": "text",
    "id": "wl79aZK8aiKi"
   },
   "source": [
    "- Mais uma camada oculta nesta parte da rede fully connected"
   ]
  },
  {
   "cell_type": "code",
   "execution_count": 100,
   "metadata": {
    "colab": {},
    "colab_type": "code",
    "executionInfo": {
     "elapsed": 941,
     "status": "ok",
     "timestamp": 1593221783668,
     "user": {
      "displayName": "Vitor Pereira Barbosa",
      "photoUrl": "",
      "userId": "04831474142422958031"
     },
     "user_tz": 180
    },
    "id": "1xGDaz2qaiKj"
   },
   "outputs": [],
   "source": [
    "model.add(Dense(units = 128, activation = 'relu'))"
   ]
  },
  {
   "cell_type": "code",
   "execution_count": 101,
   "metadata": {
    "colab": {},
    "colab_type": "code",
    "executionInfo": {
     "elapsed": 738,
     "status": "ok",
     "timestamp": 1593221783670,
     "user": {
      "displayName": "Vitor Pereira Barbosa",
      "photoUrl": "",
      "userId": "04831474142422958031"
     },
     "user_tz": 180
    },
    "id": "xJiLGhKCaiKm"
   },
   "outputs": [],
   "source": [
    "model.add(Dropout(rate = 0.2))"
   ]
  },
  {
   "cell_type": "markdown",
   "metadata": {
    "colab_type": "text",
    "id": "wVvalE5uaiKp"
   },
   "source": [
    "- Camada de saída\n",
    "- Utilizaçaõ da softmax porque estamos trabalhando com classificação multiclasse \n",
    "- São 10 saídas "
   ]
  },
  {
   "cell_type": "code",
   "execution_count": 102,
   "metadata": {
    "colab": {},
    "colab_type": "code",
    "executionInfo": {
     "elapsed": 663,
     "status": "ok",
     "timestamp": 1593221784111,
     "user": {
      "displayName": "Vitor Pereira Barbosa",
      "photoUrl": "",
      "userId": "04831474142422958031"
     },
     "user_tz": 180
    },
    "id": "GTkoZN7TaiKq"
   },
   "outputs": [],
   "source": [
    "model.add(Dense(units = 10,\n",
    "               activation = 'softmax'))"
   ]
  },
  {
   "cell_type": "code",
   "execution_count": 103,
   "metadata": {
    "colab": {
     "base_uri": "https://localhost:8080/",
     "height": 585
    },
    "colab_type": "code",
    "executionInfo": {
     "elapsed": 1867,
     "status": "ok",
     "timestamp": 1593221785634,
     "user": {
      "displayName": "Vitor Pereira Barbosa",
      "photoUrl": "",
      "userId": "04831474142422958031"
     },
     "user_tz": 180
    },
    "id": "eAqjohZuaiKs",
    "outputId": "19eb658a-fba8-4e7c-fe11-509a46f2dcb8"
   },
   "outputs": [
    {
     "name": "stdout",
     "output_type": "stream",
     "text": [
      "Model: \"sequential\"\n",
      "_________________________________________________________________\n",
      "Layer (type)                 Output Shape              Param #   \n",
      "=================================================================\n",
      "conv2d (Conv2D)              (None, 26, 26, 32)        320       \n",
      "_________________________________________________________________\n",
      "batch_normalization (BatchNo (None, 26, 26, 32)        128       \n",
      "_________________________________________________________________\n",
      "max_pooling2d (MaxPooling2D) (None, 13, 13, 32)        0         \n",
      "_________________________________________________________________\n",
      "conv2d_1 (Conv2D)            (None, 11, 11, 32)        9248      \n",
      "_________________________________________________________________\n",
      "batch_normalization_1 (Batch (None, 11, 11, 32)        128       \n",
      "_________________________________________________________________\n",
      "max_pooling2d_1 (MaxPooling2 (None, 5, 5, 32)          0         \n",
      "_________________________________________________________________\n",
      "flatten (Flatten)            (None, 800)               0         \n",
      "_________________________________________________________________\n",
      "dense (Dense)                (None, 128)               102528    \n",
      "_________________________________________________________________\n",
      "dropout (Dropout)            (None, 128)               0         \n",
      "_________________________________________________________________\n",
      "dense_1 (Dense)              (None, 128)               16512     \n",
      "_________________________________________________________________\n",
      "dropout_1 (Dropout)          (None, 128)               0         \n",
      "_________________________________________________________________\n",
      "dense_2 (Dense)              (None, 10)                1290      \n",
      "=================================================================\n",
      "Total params: 130,154\n",
      "Trainable params: 130,026\n",
      "Non-trainable params: 128\n",
      "_________________________________________________________________\n"
     ]
    }
   ],
   "source": [
    "model.summary()"
   ]
  },
  {
   "cell_type": "markdown",
   "metadata": {},
   "source": [
    "- Otimizador Adam (Stochastic Gradient Descendent melhorado)"
   ]
  },
  {
   "cell_type": "code",
   "execution_count": 104,
   "metadata": {
    "colab": {},
    "colab_type": "code",
    "executionInfo": {
     "elapsed": 980,
     "status": "ok",
     "timestamp": 1593221795505,
     "user": {
      "displayName": "Vitor Pereira Barbosa",
      "photoUrl": "",
      "userId": "04831474142422958031"
     },
     "user_tz": 180
    },
    "id": "rb9T0SQiaiKv"
   },
   "outputs": [],
   "source": [
    "from keras import optimizers"
   ]
  },
  {
   "cell_type": "code",
   "execution_count": 105,
   "metadata": {
    "colab": {},
    "colab_type": "code",
    "executionInfo": {
     "elapsed": 492,
     "status": "ok",
     "timestamp": 1593221795508,
     "user": {
      "displayName": "Vitor Pereira Barbosa",
      "photoUrl": "",
      "userId": "04831474142422958031"
     },
     "user_tz": 180
    },
    "id": "N3xLT1q0aiKx"
   },
   "outputs": [],
   "source": [
    "opt = optimizers.Adam(learning_rate = 0.01)"
   ]
  },
  {
   "cell_type": "markdown",
   "metadata": {
    "colab_type": "text",
    "id": "aVnKtDBEaiKv"
   },
   "source": [
    "- Compilação da rede"
   ]
  },
  {
   "cell_type": "code",
   "execution_count": 106,
   "metadata": {
    "colab": {},
    "colab_type": "code",
    "executionInfo": {
     "elapsed": 1152,
     "status": "ok",
     "timestamp": 1593221796590,
     "user": {
      "displayName": "Vitor Pereira Barbosa",
      "photoUrl": "",
      "userId": "04831474142422958031"
     },
     "user_tz": 180
    },
    "id": "__cA6VNxaiK0"
   },
   "outputs": [],
   "source": [
    "model.compile(loss = 'categorical_crossentropy',\n",
    "             optimizer = opt,\n",
    "             metrics = ['accuracy'])"
   ]
  },
  {
   "cell_type": "markdown",
   "metadata": {},
   "source": [
    "- Com validação cruzada kfold, utiliza-se os índices no fit "
   ]
  },
  {
   "cell_type": "code",
   "execution_count": 38,
   "metadata": {
    "colab": {
     "base_uri": "https://localhost:8080/",
     "height": 763
    },
    "colab_type": "code",
    "collapsed": true,
    "executionInfo": {
     "elapsed": 167813,
     "status": "ok",
     "timestamp": 1593221983790,
     "user": {
      "displayName": "Vitor Pereira Barbosa",
      "photoUrl": "",
      "userId": "04831474142422958031"
     },
     "user_tz": 180
    },
    "id": "jD_i6lilaiK3",
    "outputId": "74bcc88a-af6d-4235-9db7-34063af2030b"
   },
   "outputs": [
    {
     "name": "stdout",
     "output_type": "stream",
     "text": [
      "Train on 60000 samples, validate on 10000 samples\n",
      "Epoch 1/20\n",
      "60000/60000 [==============================] - 14s 240us/step - loss: 0.2745 - accuracy: 0.9245 - val_loss: 0.1054 - val_accuracy: 0.9710\n",
      "Epoch 2/20\n",
      "60000/60000 [==============================] - 8s 132us/step - loss: 0.1061 - accuracy: 0.9719 - val_loss: 0.1122 - val_accuracy: 0.9718\n",
      "Epoch 3/20\n",
      "60000/60000 [==============================] - 8s 132us/step - loss: 0.0823 - accuracy: 0.9780 - val_loss: 0.0536 - val_accuracy: 0.9853\n",
      "Epoch 4/20\n",
      "60000/60000 [==============================] - 8s 132us/step - loss: 0.0700 - accuracy: 0.9810 - val_loss: 0.0448 - val_accuracy: 0.9874\n",
      "Epoch 5/20\n",
      "60000/60000 [==============================] - 8s 132us/step - loss: 0.0675 - accuracy: 0.9817 - val_loss: 0.0874 - val_accuracy: 0.9795\n",
      "Epoch 6/20\n",
      "60000/60000 [==============================] - 8s 132us/step - loss: 0.0660 - accuracy: 0.9826 - val_loss: 0.0737 - val_accuracy: 0.9821\n",
      "Epoch 7/20\n",
      "60000/60000 [==============================] - 8s 134us/step - loss: 0.0635 - accuracy: 0.9837 - val_loss: 0.0780 - val_accuracy: 0.9795\n",
      "Epoch 8/20\n",
      "60000/60000 [==============================] - 8s 132us/step - loss: 0.0657 - accuracy: 0.9834 - val_loss: 0.0399 - val_accuracy: 0.9888\n",
      "Epoch 9/20\n",
      "60000/60000 [==============================] - 8s 132us/step - loss: 0.0617 - accuracy: 0.9847 - val_loss: 0.0477 - val_accuracy: 0.9887\n",
      "Epoch 10/20\n",
      "60000/60000 [==============================] - 8s 133us/step - loss: 0.0555 - accuracy: 0.9861 - val_loss: 0.0547 - val_accuracy: 0.9880\n",
      "Epoch 11/20\n",
      "60000/60000 [==============================] - 8s 138us/step - loss: 0.0621 - accuracy: 0.9848 - val_loss: 0.1297 - val_accuracy: 0.9782\n",
      "Epoch 12/20\n",
      "60000/60000 [==============================] - 8s 132us/step - loss: 0.0682 - accuracy: 0.9840 - val_loss: 0.1117 - val_accuracy: 0.9734\n",
      "Epoch 13/20\n",
      "60000/60000 [==============================] - 8s 132us/step - loss: 0.0575 - accuracy: 0.9863 - val_loss: 0.0597 - val_accuracy: 0.9867\n",
      "Epoch 14/20\n",
      "60000/60000 [==============================] - 8s 131us/step - loss: 0.0523 - accuracy: 0.9875 - val_loss: 0.0691 - val_accuracy: 0.9867\n",
      "Epoch 15/20\n",
      "60000/60000 [==============================] - 8s 132us/step - loss: 0.0581 - accuracy: 0.9862 - val_loss: 0.0721 - val_accuracy: 0.9869\n",
      "Epoch 16/20\n",
      "60000/60000 [==============================] - 8s 132us/step - loss: 0.0527 - accuracy: 0.9879 - val_loss: 0.0599 - val_accuracy: 0.9878\n",
      "Epoch 17/20\n",
      "60000/60000 [==============================] - 8s 132us/step - loss: 0.0612 - accuracy: 0.9868 - val_loss: 0.0648 - val_accuracy: 0.9848\n",
      "Epoch 18/20\n",
      "60000/60000 [==============================] - 8s 132us/step - loss: 0.0520 - accuracy: 0.9873 - val_loss: 0.0520 - val_accuracy: 0.9884\n",
      "Epoch 19/20\n",
      "60000/60000 [==============================] - 8s 133us/step - loss: 0.0597 - accuracy: 0.9871 - val_loss: 0.0640 - val_accuracy: 0.9875\n",
      "Epoch 20/20\n",
      "60000/60000 [==============================] - 8s 132us/step - loss: 0.0623 - accuracy: 0.9859 - val_loss: 0.0583 - val_accuracy: 0.9874\n"
     ]
    },
    {
     "data": {
      "text/plain": [
       "<keras.callbacks.callbacks.History at 0x7fb9205e8048>"
      ]
     },
     "execution_count": 38,
     "metadata": {
      "tags": []
     },
     "output_type": "execute_result"
    }
   ],
   "source": [
    "model.fit(X_train_s[train_index], y_train[train_index],\n",
    "         epochs = 20,\n",
    "         batch_size = 128,\n",
    "         validation_data = (X_test_s[test_index],y_test[test_index]))"
   ]
  },
  {
   "cell_type": "markdown",
   "metadata": {
    "colab_type": "text",
    "id": "27g_avYtaiK5"
   },
   "source": [
    "### Salvar rede "
   ]
  },
  {
   "cell_type": "code",
   "execution_count": 102,
   "metadata": {
    "colab": {},
    "colab_type": "code",
    "executionInfo": {
     "elapsed": 1507,
     "status": "ok",
     "timestamp": 1593224063541,
     "user": {
      "displayName": "Vitor Pereira Barbosa",
      "photoUrl": "",
      "userId": "04831474142422958031"
     },
     "user_tz": 180
    },
    "id": "6SwmsW0zaiK6"
   },
   "outputs": [],
   "source": [
    "cnnmodel_json = model.to_json()"
   ]
  },
  {
   "cell_type": "code",
   "execution_count": 103,
   "metadata": {
    "colab": {},
    "colab_type": "code",
    "executionInfo": {
     "elapsed": 1089,
     "status": "ok",
     "timestamp": 1593224063544,
     "user": {
      "displayName": "Vitor Pereira Barbosa",
      "photoUrl": "",
      "userId": "04831474142422958031"
     },
     "user_tz": 180
    },
    "id": "yZSq8dAMaiK9"
   },
   "outputs": [],
   "source": [
    "with open('output/cnnmodel_json.json','w') as json_file:\n",
    "    json_file.write(cnnmodel_json)"
   ]
  },
  {
   "cell_type": "code",
   "execution_count": 104,
   "metadata": {
    "colab": {},
    "colab_type": "code",
    "executionInfo": {
     "elapsed": 1012,
     "status": "ok",
     "timestamp": 1593224065383,
     "user": {
      "displayName": "Vitor Pereira Barbosa",
      "photoUrl": "",
      "userId": "04831474142422958031"
     },
     "user_tz": 180
    },
    "id": "gclfiuphaiLA"
   },
   "outputs": [],
   "source": [
    "model.save_weights('output/weights.h5')"
   ]
  },
  {
   "cell_type": "markdown",
   "metadata": {
    "colab_type": "text",
    "id": "FFRKjk8SaiLD"
   },
   "source": [
    "- Se fosse para recarregar a rede já treinada com seus pesos:"
   ]
  },
  {
   "cell_type": "code",
   "execution_count": 105,
   "metadata": {
    "colab": {
     "base_uri": "https://localhost:8080/",
     "height": 34
    },
    "colab_type": "code",
    "executionInfo": {
     "elapsed": 981,
     "status": "ok",
     "timestamp": 1593224071596,
     "user": {
      "displayName": "Vitor Pereira Barbosa",
      "photoUrl": "",
      "userId": "04831474142422958031"
     },
     "user_tz": 180
    },
    "id": "YeVQqIGPaiLE",
    "outputId": "471e42bb-164c-456a-caa6-570e5ec479fc"
   },
   "outputs": [
    {
     "data": {
      "text/plain": [
       "<function TextIOWrapper.close>"
      ]
     },
     "execution_count": 105,
     "metadata": {
      "tags": []
     },
     "output_type": "execute_result"
    }
   ],
   "source": [
    "arquivo = open('output/cnnmodel_json.json','r')\n",
    "arquitetura_rede = arquivo.read()\n",
    "arquivo.close"
   ]
  },
  {
   "cell_type": "code",
   "execution_count": 106,
   "metadata": {
    "colab": {},
    "colab_type": "code",
    "executionInfo": {
     "elapsed": 748,
     "status": "ok",
     "timestamp": 1593224073066,
     "user": {
      "displayName": "Vitor Pereira Barbosa",
      "photoUrl": "",
      "userId": "04831474142422958031"
     },
     "user_tz": 180
    },
    "id": "qs19yzaFaiLH"
   },
   "outputs": [],
   "source": [
    "from keras.models import model_from_json"
   ]
  },
  {
   "cell_type": "code",
   "execution_count": 107,
   "metadata": {
    "colab": {},
    "colab_type": "code",
    "executionInfo": {
     "elapsed": 925,
     "status": "ok",
     "timestamp": 1593224074514,
     "user": {
      "displayName": "Vitor Pereira Barbosa",
      "photoUrl": "",
      "userId": "04831474142422958031"
     },
     "user_tz": 180
    },
    "id": "pQ-GGpkqaiLJ"
   },
   "outputs": [],
   "source": [
    "model_loaded = model_from_json(arquitetura_rede)"
   ]
  },
  {
   "cell_type": "code",
   "execution_count": 108,
   "metadata": {
    "colab": {},
    "colab_type": "code",
    "executionInfo": {
     "elapsed": 1475,
     "status": "ok",
     "timestamp": 1593224076094,
     "user": {
      "displayName": "Vitor Pereira Barbosa",
      "photoUrl": "",
      "userId": "04831474142422958031"
     },
     "user_tz": 180
    },
    "id": "raYSvLbmaiLM"
   },
   "outputs": [],
   "source": [
    "model_loaded.load_weights('output/weights.h5')"
   ]
  },
  {
   "cell_type": "markdown",
   "metadata": {
    "colab_type": "text",
    "id": "STtVHdjIaiLO"
   },
   "source": [
    "## Previsão abrindo uma imagem"
   ]
  },
  {
   "cell_type": "code",
   "execution_count": 94,
   "metadata": {
    "colab": {},
    "colab_type": "code",
    "executionInfo": {
     "elapsed": 994,
     "status": "ok",
     "timestamp": 1593223851978,
     "user": {
      "displayName": "Vitor Pereira Barbosa",
      "photoUrl": "",
      "userId": "04831474142422958031"
     },
     "user_tz": 180
    },
    "id": "w9QybucReDjH"
   },
   "outputs": [],
   "source": [
    "def readimg2tensor(path, w, h):\n",
    "    import cv2\n",
    "    def img2tensor(array,channels):\n",
    "        tensor = array.reshape(1,array.shape[0], array.shape[1], channels)\n",
    "        return tensor\n",
    "    image = cv2.imread(path)\n",
    "    image = cv2.cvtColor(image, cv2.COLOR_BGR2GRAY)\n",
    "    image = cv2.resize(image, (w,h))\n",
    "    image = img2tensor(array = image, channels = 1)\n",
    "    image = image.astype('float32')\n",
    "    image = image/255\n",
    "    return image"
   ]
  },
  {
   "cell_type": "code",
   "execution_count": 115,
   "metadata": {
    "colab": {
     "base_uri": "https://localhost:8080/",
     "height": 70
    },
    "colab_type": "code",
    "executionInfo": {
     "elapsed": 2284,
     "status": "ok",
     "timestamp": 1593224241311,
     "user": {
      "displayName": "Vitor Pereira Barbosa",
      "photoUrl": "",
      "userId": "04831474142422958031"
     },
     "user_tz": 180
    },
    "id": "lc4jO9A3hYIG",
    "outputId": "1475fcc0-9dda-499d-c76e-81678275868f"
   },
   "outputs": [
    {
     "data": {
      "text/plain": [
       "array([[0.035372  , 0.08678622, 0.14588164, 0.04338522, 0.02890481,\n",
       "        0.01264901, 0.00737992, 0.51153153, 0.07408509, 0.0540246 ]],\n",
       "      dtype=float32)"
      ]
     },
     "execution_count": 115,
     "metadata": {
      "tags": []
     },
     "output_type": "execute_result"
    }
   ],
   "source": [
    "model.predict_proba(readimg2tensor(path = 'sevencropped.png', w = 28, h = 28))"
   ]
  }
 ],
 "metadata": {
  "accelerator": "GPU",
  "colab": {
   "collapsed_sections": [],
   "name": "MNIST_v2.ipynb",
   "provenance": [],
   "toc_visible": true
  },
  "kernelspec": {
   "display_name": "Python 3",
   "language": "python",
   "name": "python3"
  },
  "language_info": {
   "codemirror_mode": {
    "name": "ipython",
    "version": 3
   },
   "file_extension": ".py",
   "mimetype": "text/x-python",
   "name": "python",
   "nbconvert_exporter": "python",
   "pygments_lexer": "ipython3",
   "version": "3.7.6"
  },
  "varInspector": {
   "cols": {
    "lenName": 16,
    "lenType": 16,
    "lenVar": 40
   },
   "kernels_config": {
    "python": {
     "delete_cmd_postfix": "",
     "delete_cmd_prefix": "del ",
     "library": "var_list.py",
     "varRefreshCmd": "print(var_dic_list())"
    },
    "r": {
     "delete_cmd_postfix": ") ",
     "delete_cmd_prefix": "rm(",
     "library": "var_list.r",
     "varRefreshCmd": "cat(var_dic_list()) "
    }
   },
   "types_to_exclude": [
    "module",
    "function",
    "builtin_function_or_method",
    "instance",
    "_Feature"
   ],
   "window_display": false
  }
 },
 "nbformat": 4,
 "nbformat_minor": 1
}
